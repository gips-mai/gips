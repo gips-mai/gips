{
 "cells": [
  {
   "cell_type": "code",
   "execution_count": null,
   "metadata": {},
   "outputs": [],
   "source": [
    "import json\n",
    "import matplotlib.pyplot as plt\n",
    "import numpy as np"
   ]
  },
  {
   "cell_type": "code",
   "execution_count": null,
   "metadata": {},
   "outputs": [],
   "source": [
    "with open ('../data/eval.json') as f:\n",
    "    df = json.load(f)\n",
    "\n",
    "df.keys()\n"
   ]
  },
  {
   "cell_type": "code",
   "execution_count": null,
   "metadata": {},
   "outputs": [],
   "source": [
    "titles = ['GIPS', 'GIPS Regression', 'Baseline', 'Baseline Regression']\n",
    "keys = ['gips', 'gips_reg_head_multimod', 'gips_baseline', 'gips_reg_head_no_multimod']\n",
    "fig, axs = plt.subplots(2,2, sharex=True, sharey=True)\n",
    "for idx, (key, ax, title) in enumerate(zip(keys, axs.flatten(), titles)):\n",
    "    ax.hist(df[key]['distance'], bins=30, density=False)\n",
    "    # ax.set_yticks(np.linspace(0, 140, 16))\n",
    "    ax.set_title(title)\n",
    "    if idx%2 == 0:\n",
    "        ax.set_ylabel('n samples')\n",
    "    if idx >= 2:\n",
    "        ax.set_xlabel('distance (km)')\n",
    "\n",
    "fig.suptitle('Distribution over prediction distance')\n",
    "\n",
    "plt.savefig('results_hist.png', dpi=400, bbox_inches='tight')"
   ]
  },
  {
   "cell_type": "code",
   "execution_count": null,
   "metadata": {},
   "outputs": [],
   "source": [
    "titles = ['GIPS', 'GIPS Regression', 'Baseline', 'Baseline Regression', 'GIPS_r', 'GIPS Regression_r', 'Baseline_r', 'Baseline Regression_r']\n",
    "keys = ['gips', 'gips_reg_head_multimod', 'gips_baseline', 'gips_reg_head_no_multimod', 'gips_random', 'gips_reg_head_multimod_random', 'gips_baseline_random', 'gips_reg_head_no_multimod_random']\n",
    "fig, axs = plt.subplots(2,4, sharex=True, sharey=True)\n",
    "for idx, (key, ax, title) in enumerate(zip(keys, axs.flatten(), titles)):\n",
    "    ax.hist(df[key]['distance'], bins=30, density=False)\n",
    "    ax.vlines(df[key]['metric']['Haversine'], ymin=0, ymax=150, colors='red')\n",
    "    print(key, df[key]['metric']['Haversine'])\n",
    "    # ax.set_yticks(np.linspace(0, 140, 16))\n",
    "    ax.set_title(title)\n",
    "    if idx%4 == 0:\n",
    "        ax.set_ylabel('n samples')\n",
    "    if idx >= 4:\n",
    "        ax.set_xlabel('distance (km)')\n",
    "\n",
    "fig.suptitle('Distribution over prediction distance')\n",
    "\n",
    "plt.savefig('results_hist_random.png', dpi=400, bbox_inches='tight')"
   ]
  },
  {
   "cell_type": "code",
   "execution_count": null,
   "metadata": {},
   "outputs": [],
   "source": []
  }
 ],
 "metadata": {
  "kernelspec": {
   "display_name": "gips-new",
   "language": "python",
   "name": "python3"
  },
  "language_info": {
   "codemirror_mode": {
    "name": "ipython",
    "version": 3
   },
   "file_extension": ".py",
   "mimetype": "text/x-python",
   "name": "python",
   "nbconvert_exporter": "python",
   "pygments_lexer": "ipython3",
   "version": "3.12.4"
  }
 },
 "nbformat": 4,
 "nbformat_minor": 2
}
