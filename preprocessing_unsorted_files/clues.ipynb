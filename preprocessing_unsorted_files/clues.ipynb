{
 "cells": [
  {
   "cell_type": "code",
   "execution_count": null,
   "metadata": {},
   "outputs": [],
   "source": [
    "import pandas as pd\n",
    "import pycountry\n",
    "import numpy as np"
   ]
  },
  {
   "cell_type": "markdown",
   "metadata": {},
   "source": [
    "# GOAL\n",
    "\n",
    "At the end, I want one dataframe that contains:\n",
    "- the index of the clue\n",
    "- the clue itself\n",
    "- the iso-2 name of the countries\n",
    "- a zero for all guidebook clues and a one for all travel guide clues."
   ]
  },
  {
   "cell_type": "markdown",
   "metadata": {},
   "source": [
    "### GUIDEBOOK\n",
    "\n",
    "The guidebook contains clues and for each clue a list of countries it is applicable to."
   ]
  },
  {
   "cell_type": "code",
   "execution_count": null,
   "metadata": {},
   "outputs": [],
   "source": [
    "guidebook = pd.read_json(\"~/Downloads/guidebook.json\")\n",
    "\n",
    "guidebook = guidebook.drop('CLUE_ID', axis=1)\n",
    "\n",
    "remove_idx = [395, 779, 805, 3499, 3500, 3502, 3503, 3504, 3505, 3506, 3507, 3508, 3509, 3510, 3512]\n",
    "guidebook = guidebook.drop(remove_idx)\n",
    "\n",
    "guidebook['ISO3'] = None\n",
    "gb_countries = []\n",
    "\n",
    "for idx, clue in guidebook['geoparsed'].items():\n",
    "    iso_list = sorted(list(set([parsed['ISO3'] for parsed in clue])))\n",
    "\n",
    "    while 'CHN' in iso_list:\n",
    "        iso_list.remove('CHN')\n",
    "    while 'IND' in iso_list:\n",
    "        iso_list.remove('IND')\n",
    "    gb_countries.extend([parsed['Country'].lower().replace(' ', '-') for parsed in clue])\n",
    "    if 'UAE' in iso_list:\n",
    "        iso_list[iso_list.index('UAE')] = 'ARE'\n",
    "    guidebook.at[idx, 'ISO3'] = iso_list\n",
    "    if 'D' in iso_list:\n",
    "        print([parsed['Country'].lower().replace(' ', '-') for parsed in clue])\n",
    "        \n",
    "\n",
    "\n",
    "guidebook = guidebook.replace('UAE', 'ARE')\n",
    "\n",
    "iso_mapping = {} # a mapping from country name to iso3\n",
    "for idx, clue in guidebook['geoparsed'].items():\n",
    "    for geoparsed in clue:\n",
    "        iso_mapping[geoparsed['Country'].lower().replace(' ', '-')] = geoparsed['ISO3']\n",
    "\n",
    "\n",
    "guidebook.drop('geoparsed', inplace=True, axis=1)\n",
    "guidebook['clue_type'] = 0"
   ]
  },
  {
   "cell_type": "code",
   "execution_count": null,
   "metadata": {},
   "outputs": [],
   "source": [
    "gb_countries = sorted(list(set(gb_countries)))"
   ]
  },
  {
   "cell_type": "code",
   "execution_count": null,
   "metadata": {},
   "outputs": [],
   "source": [
    "print(guidebook.columns)"
   ]
  },
  {
   "cell_type": "markdown",
   "metadata": {},
   "source": [
    "### TRAVEL GUIDE\n",
    "\n",
    "The travel guide contains a description for each country."
   ]
  },
  {
   "cell_type": "code",
   "execution_count": null,
   "metadata": {},
   "outputs": [],
   "source": [
    "travel = pd.read_csv(\"~/Downloads/country_info_filtered.csv\")\n",
    "travel = travel.rename(columns={'Weather and Geography': 'text'})\n",
    "travel.drop('Continent', inplace=True, axis=1)\n",
    "travel = travel.dropna()\n",
    "travel['clue_type'] = 1\n",
    "\n",
    "tr_countries = sorted(list(set(travel['Country'])))"
   ]
  },
  {
   "cell_type": "code",
   "execution_count": null,
   "metadata": {},
   "outputs": [],
   "source": [
    "print(travel.columns)"
   ]
  },
  {
   "cell_type": "code",
   "execution_count": null,
   "metadata": {},
   "outputs": [],
   "source": [
    "country_mapping = {\n",
    "    'united-states-of-america': 'united-states',\n",
    "    'cape_verde': 'cabo-verde',\n",
    "    'french-overseas-possessions': 'french-southern-territories',\n",
    "    'palestinian-national-authority': 'palestinian-territory',\n",
    "    'syrian-arab-republic': 'syria',\n",
    "    'us-virgin-islands': 'u.s.-virgin-islands',\n",
    "    'vatican-city': 'vatican'\n",
    "}\n",
    "\n",
    "pycountry_ios3_mapping = {}\n",
    "for country in pycountry.countries:\n",
    "    pycountry_ios3_mapping[country.name.lower().replace(' ', '-')] = country.alpha_3\n",
    "\n",
    "official_pycountry_ios3_mapping  = {}\n",
    "for country in pycountry.countries:\n",
    "    try:\n",
    "        official_pycountry_ios3_mapping[country.official_name.lower().replace(' ', '-')] = country.alpha_3\n",
    "    except Exception:\n",
    "        continue\n",
    "\n",
    "manual_mapping = {\n",
    "    'republic-of-congo': official_pycountry_ios3_mapping['republic-of-the-congo'],\n",
    "    'democratic-republic-of-congo': official_pycountry_ios3_mapping['republic-of-the-congo'],\n",
    "    'cape-verde': official_pycountry_ios3_mapping['republic-of-cabo-verde'],\n",
    "    'sao-tome-e-principe': official_pycountry_ios3_mapping['democratic-republic-of-sao-tome-and-principe'],\n",
    "    'tanzania': official_pycountry_ios3_mapping['united-republic-of-tanzania'],\n",
    "    'bonaire': official_pycountry_ios3_mapping['bonaire,-sint-eustatius-and-saba'],\n",
    "    'saba': official_pycountry_ios3_mapping['bonaire,-sint-eustatius-and-saba'],\n",
    "    'st-eustatius': official_pycountry_ios3_mapping['bonaire,-sint-eustatius-and-saba'],\n",
    "    'pacific-islands-of-micronesia': official_pycountry_ios3_mapping['federated-states-of-micronesia'],\n",
    "    'iran': official_pycountry_ios3_mapping['islamic-republic-of-iran'],\n",
    "    'surinam': official_pycountry_ios3_mapping['republic-of-suriname'],\n",
    "    'st-maarten': official_pycountry_ios3_mapping['sint-maarten-(dutch-part)']    \n",
    "}\n"
   ]
  },
  {
   "cell_type": "code",
   "execution_count": null,
   "metadata": {},
   "outputs": [],
   "source": [
    "travel['ISO3'] = None\n",
    "for idx, country in travel['Country'].items():\n",
    "    tmp = country.lower().replace(' ', '-')\n",
    "    if tmp in country_mapping:\n",
    "        tmp = country_mapping[tmp]\n",
    "    #     p = True\n",
    "    # else:\n",
    "    #     p = False\n",
    "    if tmp in pycountry_ios3_mapping:\n",
    "        travel.at[idx, 'ISO3'] = [pycountry_ios3_mapping.get(tmp, None)]\n",
    "    elif tmp in official_pycountry_ios3_mapping:\n",
    "        travel.at[idx, 'ISO3'] = [official_pycountry_ios3_mapping.get(tmp, None)]\n",
    "    elif tmp in iso_mapping:\n",
    "        travel.at[idx, 'ISO3'] = [iso_mapping[tmp]]\n",
    "    else:\n",
    "        iso3 = [manual_mapping.get(tmp, None)]\n",
    "        if None in iso3:\n",
    "            continue\n",
    "        travel.at[idx, 'ISO3'] = [manual_mapping.get(tmp, None)]"
   ]
  },
  {
   "cell_type": "code",
   "execution_count": null,
   "metadata": {},
   "outputs": [],
   "source": [
    "print(travel.isnull().sum().sum())\n",
    "countries_with_null_iso3 = travel.loc[travel['ISO3'].isnull(), 'Country']\n",
    "list(countries_with_null_iso3)"
   ]
  },
  {
   "cell_type": "code",
   "execution_count": null,
   "metadata": {},
   "outputs": [],
   "source": [
    "t = travel.loc[travel['ISO3'] == 'D', 'Country']\n",
    "t"
   ]
  },
  {
   "cell_type": "code",
   "execution_count": null,
   "metadata": {},
   "outputs": [],
   "source": [
    "travel = travel.dropna()\n",
    "travel.drop('Country', inplace=True, axis=1)"
   ]
  },
  {
   "cell_type": "markdown",
   "metadata": {},
   "source": [
    "### CLUES"
   ]
  },
  {
   "cell_type": "code",
   "execution_count": null,
   "metadata": {},
   "outputs": [],
   "source": [
    "clues = pd.DataFrame(columns=['text', 'ISO2', 'clue_type'])"
   ]
  },
  {
   "cell_type": "code",
   "execution_count": null,
   "metadata": {},
   "outputs": [],
   "source": [
    "clues = pd.concat([clues, guidebook, travel], ignore_index=True)"
   ]
  },
  {
   "cell_type": "code",
   "execution_count": null,
   "metadata": {},
   "outputs": [],
   "source": [
    "clues "
   ]
  },
  {
   "cell_type": "code",
   "execution_count": null,
   "metadata": {},
   "outputs": [],
   "source": [
    "all_isos = []\n",
    "clues['ISO2'] = None\n",
    "for idx, iso3_list in clues['ISO3'].items():\n",
    "    iso2_list = []\n",
    "    if len(iso3_list) > 0:\n",
    "        for iso3 in iso3_list:\n",
    "            if iso3 == 'XKX':\n",
    "                iso2_list.append('XK')\n",
    "            elif iso3 == 'UAE':\n",
    "                iso2_list.append('AE')\n",
    "            else:\n",
    "                iso2_list.append(pycountry.countries.get(alpha_3=iso3).alpha_2)\n",
    "        all_isos.extend(iso2_list)\n",
    "    clues.at[idx, 'ISO2'] = iso2_list\n",
    "\n",
    "clues.reset_index(inplace=True)\n",
    "clues = clues.rename(columns={'index': 'CLUE_ID'})"
   ]
  },
  {
   "cell_type": "code",
   "execution_count": null,
   "metadata": {},
   "outputs": [],
   "source": [
    "clues"
   ]
  },
  {
   "cell_type": "code",
   "execution_count": null,
   "metadata": {},
   "outputs": [],
   "source": [
    "clues.to_csv('./all_clues.csv', index=False)"
   ]
  },
  {
   "cell_type": "code",
   "execution_count": null,
   "metadata": {},
   "outputs": [],
   "source": [
    "all_isos = sorted(list(set(all_isos)))\n",
    "encodings = np.eye(len(all_isos)).astype('int').tolist()\n",
    "\n",
    "print(len(all_isos))\n",
    "print(all_isos)"
   ]
  },
  {
   "cell_type": "code",
   "execution_count": null,
   "metadata": {},
   "outputs": [],
   "source": [
    "df = {\n",
    "    'ISO2': all_isos,\n",
    "    'encoding': encodings\n",
    "    }\n",
    "df = pd.DataFrame(df)"
   ]
  },
  {
   "cell_type": "code",
   "execution_count": null,
   "metadata": {},
   "outputs": [],
   "source": [
    "df"
   ]
  },
  {
   "cell_type": "code",
   "execution_count": null,
   "metadata": {},
   "outputs": [],
   "source": [
    "df.to_csv(\"./encodings.csv\", index=False)"
   ]
  },
  {
   "cell_type": "code",
   "execution_count": null,
   "metadata": {},
   "outputs": [],
   "source": []
  }
 ],
 "metadata": {
  "kernelspec": {
   "display_name": "ideas",
   "language": "python",
   "name": "python3"
  },
  "language_info": {
   "codemirror_mode": {
    "name": "ipython",
    "version": 3
   },
   "file_extension": ".py",
   "mimetype": "text/x-python",
   "name": "python",
   "nbconvert_exporter": "python",
   "pygments_lexer": "ipython3",
   "version": "3.8.10"
  }
 },
 "nbformat": 4,
 "nbformat_minor": 2
}
