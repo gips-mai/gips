{
 "cells": [
  {
   "cell_type": "code",
   "execution_count": 1,
   "metadata": {
    "ExecuteTime": {
     "end_time": "2024-07-16T09:17:32.809961Z",
     "start_time": "2024-07-16T09:17:32.306596Z"
    }
   },
   "outputs": [],
   "source": [
    "import pandas as pd\n",
    "import pycountry\n",
    "import numpy as np"
   ]
  },
  {
   "cell_type": "markdown",
   "metadata": {},
   "source": [
    "# Motivation\n",
    "\n",
    "We want to create a dataframe that combines the G^3 clues from the geoguessr guidebook and the travelguides.\n",
    "To this end, we need a unified format:\n",
    "\n",
    "The G^3 clues have the following format:\n",
    "\n",
    "```\n",
    " {\n",
    "    \"CLUE_ID\": 6,\n",
    "    \"text\": \"On occasions I have played a timed round and stumbled across a satellite dish in Brazil and its angle has helped me determine an approximate latitude.\",\n",
    "    \"geoparsed\": [\n",
    "      {\n",
    "        \"text\": \"Brazil\",\n",
    "        \"Country\": \"Brazil\",\n",
    "        \"ISO3\": \"BRA\",\n",
    "        \"start\": 15,\n",
    "        \"end\": 16\n",
    "      }\n",
    "    ]\n",
    "  },\n",
    "```\n",
    "They are geoparsed and contain information about the countries they are applicable to.\n",
    "\n",
    "Our word travel guide clues have the following format:\n",
    "\n",
    "```\n",
    "africa, algeria, \"Summer temperatures are high throughout the country, particularly in the south where it is both very dry and very hot. During this time, road travel is difficult and air travel prone to delay because of sandstorms. Northern cities have high humidity, while those along the coast are cooled by sea breezes. In the winter, the oases of the far south are pleasant and attract many visitors. The desert temperature drops dramatically at night. North of the Sahara, temperatures are very mild from September to May and vary little between day and night. South of the Sahara, temperatures are pleasant from October to April, but there are great variations between day and night. Coastal towns are prone to storms from the sea. Rainfall is relatively low throughout the country and in the far south it is virtually unknown. Cotton and linen lightweights are best for winter months and for evenings in desert areas. Woollens and light rainwear are advised for the winter along the coast and the Hauts Plateaux. Remember that desert temperatures can drop very low during the night, so don't get caught out with only flimsy layers. South of the Sahara, from mid-December to mid-January, temperatures drop and warm clothes are necessary both in the morning and the evening. A mountain sleeping bag is also required when camping. Algeria is situated along the North African coast, bordered to the east by Tunisia and Libya, to the southeast by Niger, to the southwest by Mali, and to the west by Mauritania and Morocco. It is Africa's second-largest country with 1,200km (750 miles) of coastline. Along the coastal strip are the main towns, fertile land, beach resorts and 90% of the population. Further south lies the area of the Hauts Plateaux mountains of up to 2,000m (6,600ft) covered in cedar, pine and cypress forests with broad arable plains dividing the plateaux. The remaining 85% of the country is the Sahara Desert in its various forms, sustaining only 500,000 people, many of whom are nomadic tribes with goat and camel herds. The Sahara region contains two mountain ranges: the dramatic Hoggar massif, rising to almost 3,000m (9,800ft) and the Tassili N’Ajjer. Both are scenically stunning and offer some of the best desert landscapes in the world.\"\n",
    "\n",
    "```\n",
    "They contain one description for each country, and are not geoparsed yet."
   ]
  },
  {
   "cell_type": "markdown",
   "metadata": {},
   "source": [
    "\n",
    "At the end, we want one dataframe that combines both the guidebook and the travel guide clues. The dataframe should have the following columns:\n",
    "- A unique identifer/index of the clue\n",
    "- the clue itself (the text)\n",
    "- the iso-2 name of the countries\n",
    "- a column specifying the orgin of the clue: zero for all guidebook clues and a one for all travel guide clues"
   ]
  },
  {
   "cell_type": "markdown",
   "metadata": {},
   "source": [
    "### GUIDEBOOK\n",
    "\n",
    "The guidebook contains clues and for each clue a list of countries it is applicable to."
   ]
  },
  {
   "cell_type": "code",
   "execution_count": 2,
   "metadata": {
    "ExecuteTime": {
     "end_time": "2024-07-16T09:43:05.502446Z",
     "start_time": "2024-07-16T09:43:05.412785Z"
    }
   },
   "outputs": [],
   "source": [
    "guidebook = pd.read_json(\"guidebook.json\")\n",
    "\n",
    "guidebook = guidebook.drop('CLUE_ID', axis=1)\n",
    "\n",
    "remove_idx = [395, 779, 805, 3499, 3500, 3502, 3503, 3504, 3505, 3506, 3507, 3508, 3509, 3510, 3512]\n",
    "guidebook = guidebook.drop(remove_idx)\n",
    "\n",
    "guidebook['ISO3'] = None\n",
    "gb_countries = []\n",
    "\n",
    "for idx, clue in guidebook['geoparsed'].items():\n",
    "    iso_list = sorted(list(set([parsed['ISO3'] for parsed in clue])))\n",
    "\n",
    "    #while 'CHN' in iso_list:\n",
    "    #    iso_list.remove('CHN')\n",
    "    #while 'IND' in iso_list:\n",
    "    #    iso_list.remove('IND')\n",
    "    gb_countries.extend([parsed['Country'].lower().replace(' ', '-') for parsed in clue])\n",
    "    if 'UAE' in iso_list:\n",
    "        iso_list[iso_list.index('UAE')] = 'ARE'\n",
    "    guidebook.at[idx, 'ISO3'] = iso_list\n",
    "    if 'D' in iso_list:\n",
    "        print([parsed['Country'].lower().replace(' ', '-') for parsed in clue])\n",
    "        \n",
    "\n",
    "\n",
    "guidebook = guidebook.replace('UAE', 'ARE')\n",
    "\n",
    "iso_mapping = {} # a mapping from country name to iso3\n",
    "for idx, clue in guidebook['geoparsed'].items():\n",
    "    for geoparsed in clue:\n",
    "        iso_mapping[geoparsed['Country'].lower().replace(' ', '-')] = geoparsed['ISO3']\n",
    "\n",
    "\n",
    "guidebook.drop('geoparsed', inplace=True, axis=1)\n",
    "guidebook['clue_type'] = 0"
   ]
  },
  {
   "cell_type": "code",
   "execution_count": 3,
   "metadata": {
    "ExecuteTime": {
     "end_time": "2024-07-16T09:43:10.677786Z",
     "start_time": "2024-07-16T09:43:10.671493Z"
    }
   },
   "outputs": [],
   "source": [
    "gb_countries = sorted(list(set(gb_countries)))"
   ]
  },
  {
   "cell_type": "code",
   "execution_count": 4,
   "metadata": {
    "ExecuteTime": {
     "end_time": "2024-07-16T09:44:05.443192Z",
     "start_time": "2024-07-16T09:44:05.439786Z"
    }
   },
   "outputs": [
    {
     "name": "stdout",
     "output_type": "stream",
     "text": [
      "Index(['text', 'ISO3', 'clue_type'], dtype='object')\n"
     ]
    }
   ],
   "source": [
    "print(guidebook.columns)"
   ]
  },
  {
   "cell_type": "markdown",
   "metadata": {},
   "source": [
    "### TRAVEL GUIDE\n",
    "\n",
    "The travel guide contains a description for each country."
   ]
  },
  {
   "cell_type": "code",
   "execution_count": 5,
   "metadata": {
    "ExecuteTime": {
     "end_time": "2024-07-16T09:44:06.626993Z",
     "start_time": "2024-07-16T09:44:06.594154Z"
    }
   },
   "outputs": [],
   "source": [
    "travel = pd.read_csv(\"~/Downloads/country_info_filtered.csv\")\n",
    "travel = travel.rename(columns={'Weather and Geography': 'text'})\n",
    "travel.drop('Continent', inplace=True, axis=1)\n",
    "travel = travel.dropna()\n",
    "travel['clue_type'] = 1\n",
    "\n",
    "tr_countries = sorted(list(set(travel['Country'])))"
   ]
  },
  {
   "cell_type": "code",
   "execution_count": 6,
   "metadata": {
    "ExecuteTime": {
     "end_time": "2024-07-16T09:44:08.324600Z",
     "start_time": "2024-07-16T09:44:08.319458Z"
    }
   },
   "outputs": [
    {
     "name": "stdout",
     "output_type": "stream",
     "text": [
      "Index(['Country', 'text', 'clue_type'], dtype='object')\n"
     ]
    }
   ],
   "source": [
    "print(travel.columns)"
   ]
  },
  {
   "cell_type": "code",
   "execution_count": 7,
   "metadata": {
    "ExecuteTime": {
     "end_time": "2024-07-16T09:44:16.227424Z",
     "start_time": "2024-07-16T09:44:16.217243Z"
    }
   },
   "outputs": [],
   "source": [
    "country_mapping = {\n",
    "    'united-states-of-america': 'united-states',\n",
    "    'cape_verde': 'cabo-verde',\n",
    "    'french-overseas-possessions': 'french-southern-territories',\n",
    "    'palestinian-national-authority': 'palestinian-territory',\n",
    "    'syrian-arab-republic': 'syria',\n",
    "    'us-virgin-islands': 'u.s.-virgin-islands',\n",
    "    'vatican-city': 'vatican'\n",
    "}\n",
    "\n",
    "pycountry_ios3_mapping = {}\n",
    "for country in pycountry.countries:\n",
    "    pycountry_ios3_mapping[country.name.lower().replace(' ', '-')] = country.alpha_3\n",
    "\n",
    "official_pycountry_ios3_mapping  = {}\n",
    "for country in pycountry.countries:\n",
    "    try:\n",
    "        official_pycountry_ios3_mapping[country.official_name.lower().replace(' ', '-')] = country.alpha_3\n",
    "    except Exception:\n",
    "        continue\n",
    "\n",
    "manual_mapping = {\n",
    "    'republic-of-congo': official_pycountry_ios3_mapping['republic-of-the-congo'],\n",
    "    'democratic-republic-of-congo': official_pycountry_ios3_mapping['republic-of-the-congo'],\n",
    "    'cape-verde': official_pycountry_ios3_mapping['republic-of-cabo-verde'],\n",
    "    'sao-tome-e-principe': official_pycountry_ios3_mapping['democratic-republic-of-sao-tome-and-principe'],\n",
    "    'tanzania': official_pycountry_ios3_mapping['united-republic-of-tanzania'],\n",
    "    'bonaire': official_pycountry_ios3_mapping['bonaire,-sint-eustatius-and-saba'],\n",
    "    'saba': official_pycountry_ios3_mapping['bonaire,-sint-eustatius-and-saba'],\n",
    "    'st-eustatius': official_pycountry_ios3_mapping['bonaire,-sint-eustatius-and-saba'],\n",
    "    'pacific-islands-of-micronesia': official_pycountry_ios3_mapping['federated-states-of-micronesia'],\n",
    "    'iran': official_pycountry_ios3_mapping['islamic-republic-of-iran'],\n",
    "    'surinam': official_pycountry_ios3_mapping['republic-of-suriname'],\n",
    "    'st-maarten': official_pycountry_ios3_mapping['sint-maarten-(dutch-part)']    \n",
    "}\n"
   ]
  },
  {
   "cell_type": "code",
   "execution_count": 8,
   "metadata": {
    "ExecuteTime": {
     "end_time": "2024-07-16T09:44:18.881491Z",
     "start_time": "2024-07-16T09:44:18.873565Z"
    }
   },
   "outputs": [],
   "source": [
    "travel['ISO3'] = None\n",
    "for idx, country in travel['Country'].items():\n",
    "    tmp = country.lower().replace(' ', '-')\n",
    "    if tmp in country_mapping:\n",
    "        tmp = country_mapping[tmp]\n",
    "    #     p = True\n",
    "    # else:\n",
    "    #     p = False\n",
    "    if tmp in pycountry_ios3_mapping:\n",
    "        travel.at[idx, 'ISO3'] = [pycountry_ios3_mapping.get(tmp, None)]\n",
    "    elif tmp in official_pycountry_ios3_mapping:\n",
    "        travel.at[idx, 'ISO3'] = [official_pycountry_ios3_mapping.get(tmp, None)]\n",
    "    elif tmp in iso_mapping:\n",
    "        travel.at[idx, 'ISO3'] = [iso_mapping[tmp]]\n",
    "    else:\n",
    "        iso3 = [manual_mapping.get(tmp, None)]\n",
    "        if None in iso3:\n",
    "            continue\n",
    "        travel.at[idx, 'ISO3'] = [manual_mapping.get(tmp, None)]"
   ]
  },
  {
   "cell_type": "code",
   "execution_count": 9,
   "metadata": {
    "ExecuteTime": {
     "end_time": "2024-07-16T09:44:19.600920Z",
     "start_time": "2024-07-16T09:44:19.589546Z"
    }
   },
   "outputs": [
    {
     "name": "stdout",
     "output_type": "stream",
     "text": [
      "11\n"
     ]
    },
    {
     "data": {
      "text/plain": [
       "['brunei',\n",
       " 'east-timor',\n",
       " 'st-kitts-and-nevis',\n",
       " 'st-lucia',\n",
       " 'st-vincent-and-the-grenadines',\n",
       " 'channel-islands',\n",
       " 'channel-islands',\n",
       " 'channel-islands',\n",
       " 'channel-islands',\n",
       " 'tahiti-and-her-islands',\n",
       " 'falkland-islands']"
      ]
     },
     "execution_count": 9,
     "metadata": {},
     "output_type": "execute_result"
    }
   ],
   "source": [
    "print(travel.isnull().sum().sum())\n",
    "countries_with_null_iso3 = travel.loc[travel['ISO3'].isnull(), 'Country']\n",
    "list(countries_with_null_iso3)"
   ]
  },
  {
   "cell_type": "code",
   "execution_count": 10,
   "metadata": {
    "ExecuteTime": {
     "end_time": "2024-07-16T09:44:21.800159Z",
     "start_time": "2024-07-16T09:44:21.792388Z"
    }
   },
   "outputs": [
    {
     "data": {
      "text/plain": [
       "Series([], Name: Country, dtype: object)"
      ]
     },
     "execution_count": 10,
     "metadata": {},
     "output_type": "execute_result"
    }
   ],
   "source": [
    "t = travel.loc[travel['ISO3'] == 'D', 'Country']\n",
    "t"
   ]
  },
  {
   "cell_type": "code",
   "execution_count": 11,
   "metadata": {
    "ExecuteTime": {
     "end_time": "2024-07-16T09:44:22.833393Z",
     "start_time": "2024-07-16T09:44:22.827849Z"
    }
   },
   "outputs": [],
   "source": [
    "travel = travel.dropna()\n",
    "travel.drop('Country', inplace=True, axis=1)"
   ]
  },
  {
   "cell_type": "code",
   "execution_count": 12,
   "metadata": {
    "ExecuteTime": {
     "end_time": "2024-07-16T09:44:44.774234Z",
     "start_time": "2024-07-16T09:44:44.762550Z"
    }
   },
   "outputs": [
    {
     "data": {
      "text/html": [
       "<div>\n",
       "<style scoped>\n",
       "    .dataframe tbody tr th:only-of-type {\n",
       "        vertical-align: middle;\n",
       "    }\n",
       "\n",
       "    .dataframe tbody tr th {\n",
       "        vertical-align: top;\n",
       "    }\n",
       "\n",
       "    .dataframe thead th {\n",
       "        text-align: right;\n",
       "    }\n",
       "</style>\n",
       "<table border=\"1\" class=\"dataframe\">\n",
       "  <thead>\n",
       "    <tr style=\"text-align: right;\">\n",
       "      <th></th>\n",
       "      <th>text</th>\n",
       "      <th>clue_type</th>\n",
       "      <th>ISO3</th>\n",
       "    </tr>\n",
       "  </thead>\n",
       "  <tbody>\n",
       "    <tr>\n",
       "      <th>0</th>\n",
       "      <td>Summer temperatures are high throughout the co...</td>\n",
       "      <td>1</td>\n",
       "      <td>[DZA]</td>\n",
       "    </tr>\n",
       "    <tr>\n",
       "      <th>1</th>\n",
       "      <td>The north of the country is hot and wet during...</td>\n",
       "      <td>1</td>\n",
       "      <td>[AGO]</td>\n",
       "    </tr>\n",
       "    <tr>\n",
       "      <th>2</th>\n",
       "      <td>The south has an equatorial climate with four ...</td>\n",
       "      <td>1</td>\n",
       "      <td>[BEN]</td>\n",
       "    </tr>\n",
       "    <tr>\n",
       "      <th>3</th>\n",
       "      <td>The landlocked Botswana is semi-arid and has t...</td>\n",
       "      <td>1</td>\n",
       "      <td>[BWA]</td>\n",
       "    </tr>\n",
       "    <tr>\n",
       "      <th>4</th>\n",
       "      <td>Tropical. The dry season lasts from November t...</td>\n",
       "      <td>1</td>\n",
       "      <td>[BFA]</td>\n",
       "    </tr>\n",
       "    <tr>\n",
       "      <th>...</th>\n",
       "      <td>...</td>\n",
       "      <td>...</td>\n",
       "      <td>...</td>\n",
       "    </tr>\n",
       "    <tr>\n",
       "      <th>313</th>\n",
       "      <td>Subtropical with rapid changes in temperature ...</td>\n",
       "      <td>1</td>\n",
       "      <td>[PRY]</td>\n",
       "    </tr>\n",
       "    <tr>\n",
       "      <th>314</th>\n",
       "      <td>The weather in Peru varies according to area –...</td>\n",
       "      <td>1</td>\n",
       "      <td>[PER]</td>\n",
       "    </tr>\n",
       "    <tr>\n",
       "      <th>315</th>\n",
       "      <td>Tropical and humid, cooled by the northeast tr...</td>\n",
       "      <td>1</td>\n",
       "      <td>[SUR]</td>\n",
       "    </tr>\n",
       "    <tr>\n",
       "      <th>316</th>\n",
       "      <td>Uruguay has an exceptionally fine temperate cl...</td>\n",
       "      <td>1</td>\n",
       "      <td>[URY]</td>\n",
       "    </tr>\n",
       "    <tr>\n",
       "      <th>317</th>\n",
       "      <td>Venezuela's location perched 8° above the equa...</td>\n",
       "      <td>1</td>\n",
       "      <td>[VEN]</td>\n",
       "    </tr>\n",
       "  </tbody>\n",
       "</table>\n",
       "<p>303 rows × 3 columns</p>\n",
       "</div>"
      ],
      "text/plain": [
       "                                                  text  clue_type   ISO3\n",
       "0    Summer temperatures are high throughout the co...          1  [DZA]\n",
       "1    The north of the country is hot and wet during...          1  [AGO]\n",
       "2    The south has an equatorial climate with four ...          1  [BEN]\n",
       "3    The landlocked Botswana is semi-arid and has t...          1  [BWA]\n",
       "4    Tropical. The dry season lasts from November t...          1  [BFA]\n",
       "..                                                 ...        ...    ...\n",
       "313  Subtropical with rapid changes in temperature ...          1  [PRY]\n",
       "314  The weather in Peru varies according to area –...          1  [PER]\n",
       "315  Tropical and humid, cooled by the northeast tr...          1  [SUR]\n",
       "316  Uruguay has an exceptionally fine temperate cl...          1  [URY]\n",
       "317  Venezuela's location perched 8° above the equa...          1  [VEN]\n",
       "\n",
       "[303 rows x 3 columns]"
      ]
     },
     "execution_count": 12,
     "metadata": {},
     "output_type": "execute_result"
    }
   ],
   "source": [
    "travel"
   ]
  },
  {
   "cell_type": "markdown",
   "metadata": {},
   "source": [
    "### CLUES"
   ]
  },
  {
   "cell_type": "code",
   "execution_count": 13,
   "metadata": {
    "ExecuteTime": {
     "end_time": "2024-07-16T09:45:52.020837Z",
     "start_time": "2024-07-16T09:45:52.015803Z"
    }
   },
   "outputs": [],
   "source": [
    "clues = pd.DataFrame(columns=['text', 'ISO2', 'clue_type'])"
   ]
  },
  {
   "cell_type": "code",
   "execution_count": 14,
   "metadata": {
    "ExecuteTime": {
     "end_time": "2024-07-16T09:45:52.492682Z",
     "start_time": "2024-07-16T09:45:52.487821Z"
    }
   },
   "outputs": [],
   "source": [
    "clues = pd.concat([clues, guidebook, travel], ignore_index=True)"
   ]
  },
  {
   "cell_type": "code",
   "execution_count": 15,
   "metadata": {
    "ExecuteTime": {
     "end_time": "2024-07-16T09:45:52.981946Z",
     "start_time": "2024-07-16T09:45:52.970498Z"
    }
   },
   "outputs": [
    {
     "data": {
      "text/html": [
       "<div>\n",
       "<style scoped>\n",
       "    .dataframe tbody tr th:only-of-type {\n",
       "        vertical-align: middle;\n",
       "    }\n",
       "\n",
       "    .dataframe tbody tr th {\n",
       "        vertical-align: top;\n",
       "    }\n",
       "\n",
       "    .dataframe thead th {\n",
       "        text-align: right;\n",
       "    }\n",
       "</style>\n",
       "<table border=\"1\" class=\"dataframe\">\n",
       "  <thead>\n",
       "    <tr style=\"text-align: right;\">\n",
       "      <th></th>\n",
       "      <th>text</th>\n",
       "      <th>ISO2</th>\n",
       "      <th>clue_type</th>\n",
       "      <th>ISO3</th>\n",
       "    </tr>\n",
       "  </thead>\n",
       "  <tbody>\n",
       "    <tr>\n",
       "      <th>0</th>\n",
       "      <td>In Street View, if the sun is clearly in the N...</td>\n",
       "      <td>NaN</td>\n",
       "      <td>0</td>\n",
       "      <td>[]</td>\n",
       "    </tr>\n",
       "    <tr>\n",
       "      <th>1</th>\n",
       "      <td>If the tip of a shadow is pointing south then ...</td>\n",
       "      <td>NaN</td>\n",
       "      <td>0</td>\n",
       "      <td>[]</td>\n",
       "    </tr>\n",
       "    <tr>\n",
       "      <th>2</th>\n",
       "      <td>The direction that the shadow’s tip points gen...</td>\n",
       "      <td>NaN</td>\n",
       "      <td>0</td>\n",
       "      <td>[]</td>\n",
       "    </tr>\n",
       "    <tr>\n",
       "      <th>3</th>\n",
       "      <td>If the sun is in the Northern Hemisphere then ...</td>\n",
       "      <td>NaN</td>\n",
       "      <td>0</td>\n",
       "      <td>[]</td>\n",
       "    </tr>\n",
       "    <tr>\n",
       "      <th>4</th>\n",
       "      <td>On some occasions the sun will appear overhead...</td>\n",
       "      <td>NaN</td>\n",
       "      <td>0</td>\n",
       "      <td>[]</td>\n",
       "    </tr>\n",
       "    <tr>\n",
       "      <th>...</th>\n",
       "      <td>...</td>\n",
       "      <td>...</td>\n",
       "      <td>...</td>\n",
       "      <td>...</td>\n",
       "    </tr>\n",
       "    <tr>\n",
       "      <th>4115</th>\n",
       "      <td>Subtropical with rapid changes in temperature ...</td>\n",
       "      <td>NaN</td>\n",
       "      <td>1</td>\n",
       "      <td>[PRY]</td>\n",
       "    </tr>\n",
       "    <tr>\n",
       "      <th>4116</th>\n",
       "      <td>The weather in Peru varies according to area –...</td>\n",
       "      <td>NaN</td>\n",
       "      <td>1</td>\n",
       "      <td>[PER]</td>\n",
       "    </tr>\n",
       "    <tr>\n",
       "      <th>4117</th>\n",
       "      <td>Tropical and humid, cooled by the northeast tr...</td>\n",
       "      <td>NaN</td>\n",
       "      <td>1</td>\n",
       "      <td>[SUR]</td>\n",
       "    </tr>\n",
       "    <tr>\n",
       "      <th>4118</th>\n",
       "      <td>Uruguay has an exceptionally fine temperate cl...</td>\n",
       "      <td>NaN</td>\n",
       "      <td>1</td>\n",
       "      <td>[URY]</td>\n",
       "    </tr>\n",
       "    <tr>\n",
       "      <th>4119</th>\n",
       "      <td>Venezuela's location perched 8° above the equa...</td>\n",
       "      <td>NaN</td>\n",
       "      <td>1</td>\n",
       "      <td>[VEN]</td>\n",
       "    </tr>\n",
       "  </tbody>\n",
       "</table>\n",
       "<p>4120 rows × 4 columns</p>\n",
       "</div>"
      ],
      "text/plain": [
       "                                                   text ISO2 clue_type   ISO3\n",
       "0     In Street View, if the sun is clearly in the N...  NaN         0     []\n",
       "1     If the tip of a shadow is pointing south then ...  NaN         0     []\n",
       "2     The direction that the shadow’s tip points gen...  NaN         0     []\n",
       "3     If the sun is in the Northern Hemisphere then ...  NaN         0     []\n",
       "4     On some occasions the sun will appear overhead...  NaN         0     []\n",
       "...                                                 ...  ...       ...    ...\n",
       "4115  Subtropical with rapid changes in temperature ...  NaN         1  [PRY]\n",
       "4116  The weather in Peru varies according to area –...  NaN         1  [PER]\n",
       "4117  Tropical and humid, cooled by the northeast tr...  NaN         1  [SUR]\n",
       "4118  Uruguay has an exceptionally fine temperate cl...  NaN         1  [URY]\n",
       "4119  Venezuela's location perched 8° above the equa...  NaN         1  [VEN]\n",
       "\n",
       "[4120 rows x 4 columns]"
      ]
     },
     "execution_count": 15,
     "metadata": {},
     "output_type": "execute_result"
    }
   ],
   "source": [
    "clues "
   ]
  },
  {
   "cell_type": "code",
   "execution_count": 16,
   "metadata": {
    "ExecuteTime": {
     "end_time": "2024-07-16T09:46:07.861824Z",
     "start_time": "2024-07-16T09:46:07.805771Z"
    }
   },
   "outputs": [],
   "source": [
    "all_isos = []\n",
    "clues['ISO2'] = None\n",
    "for idx, iso3_list in clues['ISO3'].items():\n",
    "    iso2_list = []\n",
    "    if len(iso3_list) > 0:\n",
    "        for iso3 in iso3_list:\n",
    "            if iso3 == 'XKX':\n",
    "                iso2_list.append('XK')\n",
    "            elif iso3 == 'UAE':\n",
    "                iso2_list.append('AE')\n",
    "            else:\n",
    "                iso2_list.append(pycountry.countries.get(alpha_3=iso3).alpha_2)\n",
    "        all_isos.extend(iso2_list)\n",
    "    clues.at[idx, 'ISO2'] = iso2_list\n",
    "\n",
    "clues.reset_index(inplace=True)\n",
    "clues = clues.rename(columns={'index': 'CLUE_ID'})"
   ]
  },
  {
   "cell_type": "code",
   "execution_count": 17,
   "metadata": {
    "ExecuteTime": {
     "end_time": "2024-07-16T09:46:08.713853Z",
     "start_time": "2024-07-16T09:46:08.702309Z"
    }
   },
   "outputs": [
    {
     "data": {
      "text/html": [
       "<div>\n",
       "<style scoped>\n",
       "    .dataframe tbody tr th:only-of-type {\n",
       "        vertical-align: middle;\n",
       "    }\n",
       "\n",
       "    .dataframe tbody tr th {\n",
       "        vertical-align: top;\n",
       "    }\n",
       "\n",
       "    .dataframe thead th {\n",
       "        text-align: right;\n",
       "    }\n",
       "</style>\n",
       "<table border=\"1\" class=\"dataframe\">\n",
       "  <thead>\n",
       "    <tr style=\"text-align: right;\">\n",
       "      <th></th>\n",
       "      <th>CLUE_ID</th>\n",
       "      <th>text</th>\n",
       "      <th>ISO2</th>\n",
       "      <th>clue_type</th>\n",
       "      <th>ISO3</th>\n",
       "    </tr>\n",
       "  </thead>\n",
       "  <tbody>\n",
       "    <tr>\n",
       "      <th>0</th>\n",
       "      <td>0</td>\n",
       "      <td>In Street View, if the sun is clearly in the N...</td>\n",
       "      <td>[]</td>\n",
       "      <td>0</td>\n",
       "      <td>[]</td>\n",
       "    </tr>\n",
       "    <tr>\n",
       "      <th>1</th>\n",
       "      <td>1</td>\n",
       "      <td>If the tip of a shadow is pointing south then ...</td>\n",
       "      <td>[]</td>\n",
       "      <td>0</td>\n",
       "      <td>[]</td>\n",
       "    </tr>\n",
       "    <tr>\n",
       "      <th>2</th>\n",
       "      <td>2</td>\n",
       "      <td>The direction that the shadow’s tip points gen...</td>\n",
       "      <td>[]</td>\n",
       "      <td>0</td>\n",
       "      <td>[]</td>\n",
       "    </tr>\n",
       "    <tr>\n",
       "      <th>3</th>\n",
       "      <td>3</td>\n",
       "      <td>If the sun is in the Northern Hemisphere then ...</td>\n",
       "      <td>[]</td>\n",
       "      <td>0</td>\n",
       "      <td>[]</td>\n",
       "    </tr>\n",
       "    <tr>\n",
       "      <th>4</th>\n",
       "      <td>4</td>\n",
       "      <td>On some occasions the sun will appear overhead...</td>\n",
       "      <td>[]</td>\n",
       "      <td>0</td>\n",
       "      <td>[]</td>\n",
       "    </tr>\n",
       "    <tr>\n",
       "      <th>...</th>\n",
       "      <td>...</td>\n",
       "      <td>...</td>\n",
       "      <td>...</td>\n",
       "      <td>...</td>\n",
       "      <td>...</td>\n",
       "    </tr>\n",
       "    <tr>\n",
       "      <th>4115</th>\n",
       "      <td>4115</td>\n",
       "      <td>Subtropical with rapid changes in temperature ...</td>\n",
       "      <td>[PY]</td>\n",
       "      <td>1</td>\n",
       "      <td>[PRY]</td>\n",
       "    </tr>\n",
       "    <tr>\n",
       "      <th>4116</th>\n",
       "      <td>4116</td>\n",
       "      <td>The weather in Peru varies according to area –...</td>\n",
       "      <td>[PE]</td>\n",
       "      <td>1</td>\n",
       "      <td>[PER]</td>\n",
       "    </tr>\n",
       "    <tr>\n",
       "      <th>4117</th>\n",
       "      <td>4117</td>\n",
       "      <td>Tropical and humid, cooled by the northeast tr...</td>\n",
       "      <td>[SR]</td>\n",
       "      <td>1</td>\n",
       "      <td>[SUR]</td>\n",
       "    </tr>\n",
       "    <tr>\n",
       "      <th>4118</th>\n",
       "      <td>4118</td>\n",
       "      <td>Uruguay has an exceptionally fine temperate cl...</td>\n",
       "      <td>[UY]</td>\n",
       "      <td>1</td>\n",
       "      <td>[URY]</td>\n",
       "    </tr>\n",
       "    <tr>\n",
       "      <th>4119</th>\n",
       "      <td>4119</td>\n",
       "      <td>Venezuela's location perched 8° above the equa...</td>\n",
       "      <td>[VE]</td>\n",
       "      <td>1</td>\n",
       "      <td>[VEN]</td>\n",
       "    </tr>\n",
       "  </tbody>\n",
       "</table>\n",
       "<p>4120 rows × 5 columns</p>\n",
       "</div>"
      ],
      "text/plain": [
       "      CLUE_ID                                               text  ISO2  \\\n",
       "0           0  In Street View, if the sun is clearly in the N...    []   \n",
       "1           1  If the tip of a shadow is pointing south then ...    []   \n",
       "2           2  The direction that the shadow’s tip points gen...    []   \n",
       "3           3  If the sun is in the Northern Hemisphere then ...    []   \n",
       "4           4  On some occasions the sun will appear overhead...    []   \n",
       "...       ...                                                ...   ...   \n",
       "4115     4115  Subtropical with rapid changes in temperature ...  [PY]   \n",
       "4116     4116  The weather in Peru varies according to area –...  [PE]   \n",
       "4117     4117  Tropical and humid, cooled by the northeast tr...  [SR]   \n",
       "4118     4118  Uruguay has an exceptionally fine temperate cl...  [UY]   \n",
       "4119     4119  Venezuela's location perched 8° above the equa...  [VE]   \n",
       "\n",
       "     clue_type   ISO3  \n",
       "0            0     []  \n",
       "1            0     []  \n",
       "2            0     []  \n",
       "3            0     []  \n",
       "4            0     []  \n",
       "...        ...    ...  \n",
       "4115         1  [PRY]  \n",
       "4116         1  [PER]  \n",
       "4117         1  [SUR]  \n",
       "4118         1  [URY]  \n",
       "4119         1  [VEN]  \n",
       "\n",
       "[4120 rows x 5 columns]"
      ]
     },
     "execution_count": 17,
     "metadata": {},
     "output_type": "execute_result"
    }
   ],
   "source": [
    "clues"
   ]
  },
  {
   "cell_type": "code",
   "execution_count": 18,
   "metadata": {
    "ExecuteTime": {
     "end_time": "2024-07-16T09:46:37.693244Z",
     "start_time": "2024-07-16T09:46:37.662916Z"
    }
   },
   "outputs": [],
   "source": [
    "clues.to_csv('./all_clues.csv', index=False)"
   ]
  },
  {
   "cell_type": "code",
   "execution_count": 19,
   "metadata": {
    "ExecuteTime": {
     "end_time": "2024-07-16T09:46:38.763097Z",
     "start_time": "2024-07-16T09:46:38.758806Z"
    }
   },
   "outputs": [
    {
     "name": "stdout",
     "output_type": "stream",
     "text": [
      "221\n",
      "['AD', 'AE', 'AF', 'AG', 'AI', 'AL', 'AM', 'AO', 'AQ', 'AR', 'AS', 'AT', 'AU', 'AW', 'AZ', 'BA', 'BB', 'BD', 'BE', 'BF', 'BG', 'BH', 'BI', 'BJ', 'BM', 'BO', 'BQ', 'BR', 'BS', 'BT', 'BW', 'BY', 'BZ', 'CA', 'CF', 'CG', 'CH', 'CI', 'CK', 'CL', 'CM', 'CN', 'CO', 'CR', 'CU', 'CV', 'CW', 'CX', 'CY', 'CZ', 'DE', 'DJ', 'DK', 'DM', 'DO', 'DZ', 'EC', 'EE', 'EG', 'ER', 'ES', 'ET', 'FI', 'FJ', 'FM', 'FO', 'FR', 'GA', 'GB', 'GD', 'GE', 'GH', 'GI', 'GL', 'GM', 'GN', 'GP', 'GQ', 'GR', 'GT', 'GU', 'GW', 'GY', 'HK', 'HN', 'HR', 'HT', 'HU', 'ID', 'IE', 'IL', 'IM', 'IN', 'IQ', 'IR', 'IS', 'IT', 'JE', 'JM', 'JO', 'JP', 'KE', 'KG', 'KH', 'KI', 'KM', 'KP', 'KR', 'KW', 'KY', 'KZ', 'LA', 'LB', 'LI', 'LK', 'LR', 'LS', 'LT', 'LU', 'LV', 'LY', 'MA', 'MC', 'MD', 'ME', 'MG', 'MK', 'ML', 'MM', 'MN', 'MO', 'MP', 'MQ', 'MR', 'MS', 'MT', 'MU', 'MV', 'MW', 'MX', 'MY', 'MZ', 'NA', 'NC', 'NE', 'NG', 'NI', 'NL', 'NO', 'NP', 'NR', 'NU', 'NZ', 'OM', 'PA', 'PE', 'PG', 'PH', 'PK', 'PL', 'PR', 'PS', 'PT', 'PY', 'QA', 'RE', 'RO', 'RS', 'RU', 'RW', 'SA', 'SB', 'SC', 'SD', 'SE', 'SG', 'SI', 'SJ', 'SK', 'SL', 'SM', 'SN', 'SO', 'SR', 'ST', 'SV', 'SX', 'SY', 'SZ', 'TC', 'TD', 'TF', 'TG', 'TH', 'TJ', 'TM', 'TN', 'TO', 'TR', 'TT', 'TV', 'TW', 'TZ', 'UA', 'UG', 'UM', 'US', 'UY', 'UZ', 'VA', 'VE', 'VG', 'VI', 'VN', 'VU', 'WS', 'XK', 'YE', 'ZA', 'ZM', 'ZW']\n"
     ]
    }
   ],
   "source": [
    "all_isos = sorted(list(set(all_isos)))\n",
    "encodings = np.eye(len(all_isos)).astype('int').tolist()\n",
    "\n",
    "print(len(all_isos))\n",
    "print(all_isos)"
   ]
  },
  {
   "cell_type": "code",
   "execution_count": 20,
   "metadata": {
    "ExecuteTime": {
     "end_time": "2024-07-16T09:46:42.245760Z",
     "start_time": "2024-07-16T09:46:42.241503Z"
    }
   },
   "outputs": [],
   "source": [
    "df = {\n",
    "    'ISO2': all_isos,\n",
    "    'encoding': encodings\n",
    "    }\n",
    "df = pd.DataFrame(df)"
   ]
  },
  {
   "cell_type": "code",
   "execution_count": 21,
   "metadata": {
    "ExecuteTime": {
     "end_time": "2024-07-16T09:46:43.995589Z",
     "start_time": "2024-07-16T09:46:43.983162Z"
    }
   },
   "outputs": [
    {
     "data": {
      "text/html": [
       "<div>\n",
       "<style scoped>\n",
       "    .dataframe tbody tr th:only-of-type {\n",
       "        vertical-align: middle;\n",
       "    }\n",
       "\n",
       "    .dataframe tbody tr th {\n",
       "        vertical-align: top;\n",
       "    }\n",
       "\n",
       "    .dataframe thead th {\n",
       "        text-align: right;\n",
       "    }\n",
       "</style>\n",
       "<table border=\"1\" class=\"dataframe\">\n",
       "  <thead>\n",
       "    <tr style=\"text-align: right;\">\n",
       "      <th></th>\n",
       "      <th>ISO2</th>\n",
       "      <th>encoding</th>\n",
       "    </tr>\n",
       "  </thead>\n",
       "  <tbody>\n",
       "    <tr>\n",
       "      <th>0</th>\n",
       "      <td>AD</td>\n",
       "      <td>[1, 0, 0, 0, 0, 0, 0, 0, 0, 0, 0, 0, 0, 0, 0, ...</td>\n",
       "    </tr>\n",
       "    <tr>\n",
       "      <th>1</th>\n",
       "      <td>AE</td>\n",
       "      <td>[0, 1, 0, 0, 0, 0, 0, 0, 0, 0, 0, 0, 0, 0, 0, ...</td>\n",
       "    </tr>\n",
       "    <tr>\n",
       "      <th>2</th>\n",
       "      <td>AF</td>\n",
       "      <td>[0, 0, 1, 0, 0, 0, 0, 0, 0, 0, 0, 0, 0, 0, 0, ...</td>\n",
       "    </tr>\n",
       "    <tr>\n",
       "      <th>3</th>\n",
       "      <td>AG</td>\n",
       "      <td>[0, 0, 0, 1, 0, 0, 0, 0, 0, 0, 0, 0, 0, 0, 0, ...</td>\n",
       "    </tr>\n",
       "    <tr>\n",
       "      <th>4</th>\n",
       "      <td>AI</td>\n",
       "      <td>[0, 0, 0, 0, 1, 0, 0, 0, 0, 0, 0, 0, 0, 0, 0, ...</td>\n",
       "    </tr>\n",
       "    <tr>\n",
       "      <th>...</th>\n",
       "      <td>...</td>\n",
       "      <td>...</td>\n",
       "    </tr>\n",
       "    <tr>\n",
       "      <th>216</th>\n",
       "      <td>XK</td>\n",
       "      <td>[0, 0, 0, 0, 0, 0, 0, 0, 0, 0, 0, 0, 0, 0, 0, ...</td>\n",
       "    </tr>\n",
       "    <tr>\n",
       "      <th>217</th>\n",
       "      <td>YE</td>\n",
       "      <td>[0, 0, 0, 0, 0, 0, 0, 0, 0, 0, 0, 0, 0, 0, 0, ...</td>\n",
       "    </tr>\n",
       "    <tr>\n",
       "      <th>218</th>\n",
       "      <td>ZA</td>\n",
       "      <td>[0, 0, 0, 0, 0, 0, 0, 0, 0, 0, 0, 0, 0, 0, 0, ...</td>\n",
       "    </tr>\n",
       "    <tr>\n",
       "      <th>219</th>\n",
       "      <td>ZM</td>\n",
       "      <td>[0, 0, 0, 0, 0, 0, 0, 0, 0, 0, 0, 0, 0, 0, 0, ...</td>\n",
       "    </tr>\n",
       "    <tr>\n",
       "      <th>220</th>\n",
       "      <td>ZW</td>\n",
       "      <td>[0, 0, 0, 0, 0, 0, 0, 0, 0, 0, 0, 0, 0, 0, 0, ...</td>\n",
       "    </tr>\n",
       "  </tbody>\n",
       "</table>\n",
       "<p>221 rows × 2 columns</p>\n",
       "</div>"
      ],
      "text/plain": [
       "    ISO2                                           encoding\n",
       "0     AD  [1, 0, 0, 0, 0, 0, 0, 0, 0, 0, 0, 0, 0, 0, 0, ...\n",
       "1     AE  [0, 1, 0, 0, 0, 0, 0, 0, 0, 0, 0, 0, 0, 0, 0, ...\n",
       "2     AF  [0, 0, 1, 0, 0, 0, 0, 0, 0, 0, 0, 0, 0, 0, 0, ...\n",
       "3     AG  [0, 0, 0, 1, 0, 0, 0, 0, 0, 0, 0, 0, 0, 0, 0, ...\n",
       "4     AI  [0, 0, 0, 0, 1, 0, 0, 0, 0, 0, 0, 0, 0, 0, 0, ...\n",
       "..   ...                                                ...\n",
       "216   XK  [0, 0, 0, 0, 0, 0, 0, 0, 0, 0, 0, 0, 0, 0, 0, ...\n",
       "217   YE  [0, 0, 0, 0, 0, 0, 0, 0, 0, 0, 0, 0, 0, 0, 0, ...\n",
       "218   ZA  [0, 0, 0, 0, 0, 0, 0, 0, 0, 0, 0, 0, 0, 0, 0, ...\n",
       "219   ZM  [0, 0, 0, 0, 0, 0, 0, 0, 0, 0, 0, 0, 0, 0, 0, ...\n",
       "220   ZW  [0, 0, 0, 0, 0, 0, 0, 0, 0, 0, 0, 0, 0, 0, 0, ...\n",
       "\n",
       "[221 rows x 2 columns]"
      ]
     },
     "execution_count": 21,
     "metadata": {},
     "output_type": "execute_result"
    }
   ],
   "source": [
    "df"
   ]
  },
  {
   "cell_type": "code",
   "execution_count": 22,
   "metadata": {
    "ExecuteTime": {
     "end_time": "2024-07-16T09:47:01.503252Z",
     "start_time": "2024-07-16T09:47:01.493167Z"
    }
   },
   "outputs": [],
   "source": [
    "df.to_csv(\"./encodings.csv\", index=False)"
   ]
  }
 ],
 "metadata": {
  "kernelspec": {
   "display_name": "Python 3 (ipykernel)",
   "language": "python",
   "name": "python3"
  },
  "language_info": {
   "codemirror_mode": {
    "name": "ipython",
    "version": 3
   },
   "file_extension": ".py",
   "mimetype": "text/x-python",
   "name": "python",
   "nbconvert_exporter": "python",
   "pygments_lexer": "ipython3",
   "version": "3.12.3"
  }
 },
 "nbformat": 4,
 "nbformat_minor": 4
}
